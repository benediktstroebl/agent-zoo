{
 "cells": [
  {
   "cell_type": "code",
   "execution_count": null,
   "metadata": {},
   "outputs": [],
   "source": [
    "import os \n",
    "import pandas as pd\n",
    "import sys \n",
    "\n",
    "sys.path.append('../')\n",
    "\n",
    "from analysis.eval_utils import EvalConfig\n",
    "\n",
    "run_name = 'humor_2_agents_4o'\n",
    "WORKSPACE_DIR = '../../saved_workspace'\n",
    "full_path = os.path.join(WORKSPACE_DIR, run_name)\n",
    "\n",
    "eval_config = EvalConfig(run_name=run_name, workspace_dir=WORKSPACE_DIR, agent_dirs=['monkey', 'giraffe'])\n"
   ]
  },
  {
   "cell_type": "code",
   "execution_count": null,
   "metadata": {},
   "outputs": [],
   "source": []
  }
 ],
 "metadata": {
  "language_info": {
   "name": "python"
  }
 },
 "nbformat": 4,
 "nbformat_minor": 2
}
